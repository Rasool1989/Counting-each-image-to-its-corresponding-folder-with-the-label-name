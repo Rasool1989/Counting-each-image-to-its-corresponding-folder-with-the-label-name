{
 "cells": [
  {
   "cell_type": "code",
   "execution_count": 2,
   "id": "5d31b079",
   "metadata": {},
   "outputs": [
    {
     "name": "stdout",
     "output_type": "stream",
     "text": [
      "no_tumor\n",
      "2\n",
      "pituitary_tumor\n",
      "1\n",
      "glioma_tumor\n",
      "6\n",
      "meningioma_tumor\n",
      "4\n"
     ]
    }
   ],
   "source": [
    "import os\n",
    "import glob\n",
    "\n",
    "for directory_path in glob.glob(\"Dataset/Training/*\"):\n",
    "    label = directory_path.split(\"Dataset/Training/\")[-1]\n",
    "    print(label)\n",
    "    initial_count = 0\n",
    "    for path in os.listdir(directory_path):\n",
    "        if os.path.isfile(os.path.join(directory_path, path)):\n",
    "            initial_count += 1\n",
    "    print(initial_count)        \n",
    "        \n",
    "\n",
    "    "
   ]
  },
  {
   "cell_type": "code",
   "execution_count": null,
   "id": "1189c6ae",
   "metadata": {},
   "outputs": [],
   "source": []
  }
 ],
 "metadata": {
  "kernelspec": {
   "display_name": "Python 3",
   "language": "python",
   "name": "python3"
  },
  "language_info": {
   "codemirror_mode": {
    "name": "ipython",
    "version": 3
   },
   "file_extension": ".py",
   "mimetype": "text/x-python",
   "name": "python",
   "nbconvert_exporter": "python",
   "pygments_lexer": "ipython3",
   "version": "3.8.8"
  }
 },
 "nbformat": 4,
 "nbformat_minor": 5
}
